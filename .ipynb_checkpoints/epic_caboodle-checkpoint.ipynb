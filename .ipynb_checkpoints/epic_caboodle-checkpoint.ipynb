{
 "cells": [
  {
   "cell_type": "markdown",
   "id": "237aab5c",
   "metadata": {},
   "source": [
    "# EPIC Training Caboodle\n",
    "\n",
    "## Caboodle Data Model Fundamentals (CDW110v) \n",
    "#### Student: Joe Eberle started on 11_12_2024 - https://github.com/JoeEberle/ - josepheberle@outlook.com\n",
    "#### https://userweb.epic.com/                                             Access: Joe_Eberle \n",
    "\n",
    "\n",
    "## Dates: Nov 12 8:30AM-12:30PM CST, Nov 13 8:30AM-12:30PM CST"
   ]
  },
  {
   "cell_type": "code",
   "execution_count": 1,
   "id": "deffe246",
   "metadata": {},
   "outputs": [
    {
     "name": "stdout",
     "output_type": "stream",
     "text": [
      "Libraries Imported succesfully on 2025-01-03 at 16:44:44.123365\n"
     ]
    }
   ],
   "source": [
    "import os\n",
    "import schedule\n",
    "from datetime import datetime\n",
    "import pandas as pd \n",
    "import file_manager as fm \n",
    "import quick_logger as ql \n",
    "import talking_code as tc \n",
    "import time\n",
    "from IPython.display import Markdown, display, Image\n",
    "print(f\"Libraries Imported succesfully on {datetime.now().date()} at {datetime.now().time()}\") "
   ]
  },
  {
   "cell_type": "code",
   "execution_count": null,
   "id": "7ed5adf2",
   "metadata": {},
   "outputs": [],
   "source": []
  },
  {
   "cell_type": "code",
   "execution_count": null,
   "id": "baec1c6c",
   "metadata": {},
   "outputs": [],
   "source": []
  },
  {
   "cell_type": "markdown",
   "id": "7d7f1918-fc06-4335-81bc-17557136ddcd",
   "metadata": {},
   "source": [
    "#### Required Setup Step 0 - Intitiate Configuration Settings and name the overall solution"
   ]
  },
  {
   "cell_type": "code",
   "execution_count": 2,
   "id": "a1984f04-117f-4dc5-98e9-9c701b3e3a4c",
   "metadata": {},
   "outputs": [],
   "source": [
    "import configparser \n",
    "config = configparser.ConfigParser()\n",
    "cfg = config.read('config.ini')  \n",
    "solution_name = 'epic_caboodle'"
   ]
  },
  {
   "cell_type": "markdown",
   "id": "092cdb4f-95e5-4d0b-9435-f60b3f117f8b",
   "metadata": {},
   "source": [
    "#### Required Setup Step 0 - Intitiate Logging and debugging "
   ]
  },
  {
   "cell_type": "code",
   "execution_count": 3,
   "id": "e3697cf8",
   "metadata": {},
   "outputs": [],
   "source": [
    "import logging # built in python library that does not need to be installed \n",
    "import file_manager as fm \n",
    "import quick_logger as ql \n",
    "\n",
    "global start_stime \n",
    "start_time = ql.set_start_time()\n",
    "logging = ql.create_logger_start(solution_name, start_time) \n",
    "ql.set_speaking_log(False)\n",
    "ql.set_speaking_steps(False)"
   ]
  },
  {
   "cell_type": "code",
   "execution_count": 4,
   "id": "a8934b83",
   "metadata": {},
   "outputs": [],
   "source": [
    "displaying_images = False"
   ]
  },
  {
   "cell_type": "code",
   "execution_count": 5,
   "id": "015745b4",
   "metadata": {},
   "outputs": [
    {
     "data": {
      "text/markdown": [
       "\n",
       "\n",
       "# Caboodle   CDW110v Caboodle Data   Model Fundamentals\n",
       "\n",
       "## Caboodle - Table of Contents\n",
       " \n",
       "1. Introduction\n",
       "2. The Basics Of Caboodle\n",
       "3. Investigating Caboodle\n",
       "4. Change Tracking\n",
       "5. Referential Integrity\n",
       "6. Beyond Facts and Dimensions\n",
       "7. Appendix A: Completing Your Training Track\n",
       "8. Appendix B: End User Badge Guide\n",
       "9. Appendix C: Additional Practice\n",
       "10. Appendix D: Lesson 1 4 Review\n",
       "\n"
      ],
      "text/plain": [
       "<IPython.core.display.Markdown object>"
      ]
     },
     "metadata": {},
     "output_type": "display_data"
    }
   ],
   "source": [
    "definition = '''\n",
    "\n",
    "# Caboodle   CDW110v Caboodle Data   Model Fundamentals\n",
    "\n",
    "## Caboodle - Table of Contents\n",
    " \n",
    "1. Introduction\n",
    "2. The Basics Of Caboodle\n",
    "3. Investigating Caboodle\n",
    "4. Change Tracking\n",
    "5. Referential Integrity\n",
    "6. Beyond Facts and Dimensions\n",
    "7. Appendix A: Completing Your Training Track\n",
    "8. Appendix B: End User Badge Guide\n",
    "9. Appendix C: Additional Practice\n",
    "10. Appendix D: Lesson 1 4 Review\n",
    "\n",
    "'''\n",
    "\n",
    "# Write the solution definitions out to the solution_description.md file\n",
    "file_name = \"solution_description.md\"\n",
    "with open(file_name, 'w', encoding='utf-8') as f:\n",
    "    f.write(definition)  # Write the template to the readme.md file\n",
    " \n",
    "display(Markdown(definition))"
   ]
  },
  {
   "cell_type": "markdown",
   "id": "4ba76161",
   "metadata": {},
   "source": [
    "# EPIC Training Caboodle - Chapter 1 -  Introduction "
   ]
  },
  {
   "cell_type": "code",
   "execution_count": 6,
   "id": "3449152f",
   "metadata": {},
   "outputs": [
    {
     "data": {
      "text/markdown": [
       "\n",
       "\n",
       "# Chapter 1 Introduction to Caboodle Data Model Fundamentals \n",
       "\n",
       "Welcome to Caboodle Data Model Fundamentals! This course introduces the basic tools, structures, and\n",
       "concepts needed to understand and report on Caboodle data. You will learn the **organizational structure**\n",
       "of the warehouse, key terms, and resources to help you better leverage Caboodle to write reports. You'll\n",
       "get a chance to explore and navigate the Caboodle portion of the **Cogito Data Dictionary** and apply what you learn\n",
       "by writing and evaluating SQL queries against sample data.\n",
       "\n",
       "Caboodle is a powerful analytics tool that can store custom data from Epic and non Epic sources. While\n",
       "this course cannot predict every data point that will end up in your Caboodle database, it can familiarize\n",
       "you with the data model and the accompanying documentation so that you can make the most out of\n",
       "what Caboodle has to offer.\n",
       "\n",
       "#### This material contains confidential and copyrighted information of Epic Systems Corporation\n",
       "\n"
      ],
      "text/plain": [
       "<IPython.core.display.Markdown object>"
      ]
     },
     "metadata": {},
     "output_type": "display_data"
    }
   ],
   "source": [
    "definition = '''\n",
    "\n",
    "# Chapter 1 Introduction to Caboodle Data Model Fundamentals \n",
    "\n",
    "Welcome to Caboodle Data Model Fundamentals! This course introduces the basic tools, structures, and\n",
    "concepts needed to understand and report on Caboodle data. You will learn the **organizational structure**\n",
    "of the warehouse, key terms, and resources to help you better leverage Caboodle to write reports. You'll\n",
    "get a chance to explore and navigate the Caboodle portion of the **Cogito Data Dictionary** and apply what you learn\n",
    "by writing and evaluating SQL queries against sample data.\n",
    "\n",
    "Caboodle is a powerful analytics tool that can store custom data from Epic and non Epic sources. While\n",
    "this course cannot predict every data point that will end up in your Caboodle database, it can familiarize\n",
    "you with the data model and the accompanying documentation so that you can make the most out of\n",
    "what Caboodle has to offer.\n",
    "\n",
    "#### This material contains confidential and copyrighted information of Epic Systems Corporation\n",
    "\n",
    "'''\n",
    "\n",
    "with open(file_name, 'a', encoding='utf-8') as f:\n",
    "    f.write(definition)  # Write the template to the readme.md file\n",
    "display(Markdown(definition))"
   ]
  },
  {
   "cell_type": "code",
   "execution_count": null,
   "id": "ffbb4898",
   "metadata": {},
   "outputs": [],
   "source": []
  },
  {
   "cell_type": "code",
   "execution_count": null,
   "id": "8700dd38",
   "metadata": {},
   "outputs": [],
   "source": []
  },
  {
   "cell_type": "markdown",
   "id": "a680d5b6",
   "metadata": {},
   "source": [
    "## EPIC Training Caboodle - Chapter 2 - The Basics of Caboodle"
   ]
  },
  {
   "cell_type": "code",
   "execution_count": 7,
   "id": "55a859db",
   "metadata": {},
   "outputs": [
    {
     "data": {
      "text/markdown": [
       "\n",
       "\n",
       "# EPIC Training Caboodle   Chapter 2  The Basics of Caboodle\n",
       "\n",
       "## Introduction **The Basics of Caboodle**\n",
       "\n",
       "Caboodle provides a framework for combining **Epic** and **non‐Epic** data in a single, unified data model that\n",
       "has been designed for efficient reporting. This database is one reporting tool in **Epic's Cogito ergo sum\n",
       "Enterprise Intelligence suite**. Caboodle can help your organization get more value from the information in\n",
       "your system and broaden the scope of analytical reporting.\n",
       "\n",
       "By the End of This Lesson, You Will Be Able To...\n",
       "1. Describe **how Caboodle is populated**\n",
       "2. Describe **Caboodles schemas** and identify which one report writers use\n",
       "3. Identify the **naming conventions** used in Caboodle\n",
       "4. Describe how **Caboodle fits with Epic's reporting tools**\n",
       "\n"
      ],
      "text/plain": [
       "<IPython.core.display.Markdown object>"
      ]
     },
     "metadata": {},
     "output_type": "display_data"
    }
   ],
   "source": [
    "definition = '''\n",
    "\n",
    "# EPIC Training Caboodle   Chapter 2  The Basics of Caboodle\n",
    "\n",
    "## Introduction **The Basics of Caboodle**\n",
    "\n",
    "Caboodle provides a framework for combining **Epic** and **non‐Epic** data in a single, unified data model that\n",
    "has been designed for efficient reporting. This database is one reporting tool in **Epic's Cogito ergo sum\n",
    "Enterprise Intelligence suite**. Caboodle can help your organization get more value from the information in\n",
    "your system and broaden the scope of analytical reporting.\n",
    "\n",
    "By the End of This Lesson, You Will Be Able To...\n",
    "1. Describe **how Caboodle is populated**\n",
    "2. Describe **Caboodles schemas** and identify which one report writers use\n",
    "3. Identify the **naming conventions** used in Caboodle\n",
    "4. Describe how **Caboodle fits with Epic's reporting tools**\n",
    "\n",
    "'''\n",
    "\n",
    "# Write the solution definitions out to the solution_description.md file\n",
    "file_name = \"EPIC_Caboodle.md\"\n",
    "with open(file_name, 'w', encoding='utf-8') as f:\n",
    "    f.write(definition)  # Write the template to the readme.md file\n",
    "\n",
    "# Display the definition as formatted Markdown in the notebook\n",
    "display(Markdown(definition))"
   ]
  },
  {
   "cell_type": "code",
   "execution_count": 8,
   "id": "0ec42bdb",
   "metadata": {},
   "outputs": [
    {
     "data": {
      "text/markdown": [
       "\n",
       "## What is EPIC Caboodle ?\n",
       "\n",
       "Caboodle in its simplest sense is a **data warehouse**, designed to store **Epic** and **non Epic data**. A data\n",
       "warehouse is a relational database, made up of tables and columns, which can be queried using SQL.\n",
       "\n",
       "But Caboodle is more than just a data warehouse. Caboodle also includes:\n",
       "\n",
       "- The **extract, transform, and load (ETL) ** process that moves data into the data warehouse\n",
       "- The **infrastructure and tools** used for managing and monitoring the system\n",
       "- The **Caboodle Console**, a web application containing a set of **administrative tools**\n",
       "\n",
       "#### Data in Caboodle\n",
       "\n",
       "The Caboodle data warehouse stores data from multiple sources, both Epic and non Epic. To fully\n",
       "understand the relationships between data points, you must understand where the data comes from, and\n",
       "the meaning of the data entered in the system.\n",
       "\n",
       "\n",
       "## Flow of Data into Caboodle\n",
       "\n"
      ],
      "text/plain": [
       "<IPython.core.display.Markdown object>"
      ]
     },
     "metadata": {},
     "output_type": "display_data"
    }
   ],
   "source": [
    "from IPython.display import Markdown, display, Image\n",
    "\n",
    "definition = '''\n",
    "## What is EPIC Caboodle ?\n",
    "\n",
    "Caboodle in its simplest sense is a **data warehouse**, designed to store **Epic** and **non Epic data**. A data\n",
    "warehouse is a relational database, made up of tables and columns, which can be queried using SQL.\n",
    "\n",
    "But Caboodle is more than just a data warehouse. Caboodle also includes:\n",
    "\n",
    "- The **extract, transform, and load (ETL) ** process that moves data into the data warehouse\n",
    "- The **infrastructure and tools** used for managing and monitoring the system\n",
    "- The **Caboodle Console**, a web application containing a set of **administrative tools**\n",
    "\n",
    "#### Data in Caboodle\n",
    "\n",
    "The Caboodle data warehouse stores data from multiple sources, both Epic and non Epic. To fully\n",
    "understand the relationships between data points, you must understand where the data comes from, and\n",
    "the meaning of the data entered in the system.\n",
    "\n",
    "\n",
    "## Flow of Data into Caboodle\n",
    "\n",
    "''' \n",
    "with open(file_name, 'a', encoding='utf-8') as f:\n",
    "    # Write the template to the readme.md file\n",
    "     f.write(definition)\n",
    "\n",
    "display(Markdown(definition))   \n",
    "if displaying_images:\n",
    "    display(Image(filename=\"flow_of_data.png\"))    "
   ]
  },
  {
   "cell_type": "code",
   "execution_count": 9,
   "id": "c2c60403",
   "metadata": {},
   "outputs": [
    {
     "data": {
      "text/markdown": [
       "\n",
       "\n",
       "## What is Chronicles ?\n",
       "\n",
       "**Chronicles** is Epics production database. End users enter data into Chronicles through their daily\n",
       "activities. This database is **hierarchical** and requires its own **reporting tools**. As the source for all \n",
       "Epic data, Chronicles contains definitions for how certain pieces of data may be stored and the relationships\n",
       "between those pieces of data.\n",
       "\n"
      ],
      "text/plain": [
       "<IPython.core.display.Markdown object>"
      ]
     },
     "metadata": {},
     "output_type": "display_data"
    }
   ],
   "source": [
    "definition = '''\n",
    "\n",
    "## What is Chronicles ?\n",
    "\n",
    "**Chronicles** is Epics production database. End users enter data into Chronicles through their daily\n",
    "activities. This database is **hierarchical** and requires its own **reporting tools**. As the source for all \n",
    "Epic data, Chronicles contains definitions for how certain pieces of data may be stored and the relationships\n",
    "between those pieces of data.\n",
    "\n",
    "''' \n",
    "\n",
    "with open(file_name, 'a', encoding='utf-8') as f:\n",
    "     f.write(definition)\n",
    "display(Markdown(definition))  "
   ]
  },
  {
   "cell_type": "code",
   "execution_count": 10,
   "id": "c5fbcb9b",
   "metadata": {},
   "outputs": [
    {
     "data": {
      "text/markdown": [
       "\n",
       "\n",
       "## What is Clarity ? \n",
       "\n",
       "**Clarity** extracts data from the Chronicles database through a standard **ETL** process. After transformation,\n",
       "the data is stored in a relational database on a separate server. Even though the structure of the\n",
       "Chronicles and Clarity databases differ significantly, the Clarity ETL process **preserves the relationships\n",
       "mapped in Chronicles**.\n",
       "\n"
      ],
      "text/plain": [
       "<IPython.core.display.Markdown object>"
      ]
     },
     "metadata": {},
     "output_type": "display_data"
    }
   ],
   "source": [
    "definition = '''\n",
    "\n",
    "## What is Clarity ? \n",
    "\n",
    "**Clarity** extracts data from the Chronicles database through a standard **ETL** process. After transformation,\n",
    "the data is stored in a relational database on a separate server. Even though the structure of the\n",
    "Chronicles and Clarity databases differ significantly, the Clarity ETL process **preserves the relationships\n",
    "mapped in Chronicles**.\n",
    "\n",
    "''' \n",
    "\n",
    "with open(file_name, 'a', encoding='utf-8') as f:\n",
    "     f.write(definition)\n",
    "\n",
    "display(Markdown(definition))  "
   ]
  },
  {
   "cell_type": "code",
   "execution_count": 11,
   "id": "86f7ed43",
   "metadata": {},
   "outputs": [
    {
     "data": {
      "text/markdown": [
       "\n",
       "\n",
       "## How does Caboodle fit in ? \n",
       "\n",
       "Caboodle can receive data from Clarity **Epic data** and from other databases **non Epic data**. Once\n",
       "again, the **relationships** between data are preserved during the Caboodle ETL process. There are two\n",
       "databases within Caboodle:\n",
       "\n",
       "1. the **staging database**\n",
       "2. the **reporting database** \n",
       "\n",
       "Data first moves from its source into the staging database. \n",
       "Here data is transformed, checked for data integrity issues, and cleaned to resolve those issues. \n",
       "Once the data is ready, it is moved to the reporting database. \n",
       "This is the database used by Caboodle report writers to create reports.\n",
       "\n"
      ],
      "text/plain": [
       "<IPython.core.display.Markdown object>"
      ]
     },
     "metadata": {},
     "output_type": "display_data"
    }
   ],
   "source": [
    "definition = '''\n",
    "\n",
    "## How does Caboodle fit in ? \n",
    "\n",
    "Caboodle can receive data from Clarity **Epic data** and from other databases **non Epic data**. Once\n",
    "again, the **relationships** between data are preserved during the Caboodle ETL process. There are two\n",
    "databases within Caboodle:\n",
    "\n",
    "1. the **staging database**\n",
    "2. the **reporting database** \n",
    "\n",
    "Data first moves from its source into the staging database. \n",
    "Here data is transformed, checked for data integrity issues, and cleaned to resolve those issues. \n",
    "Once the data is ready, it is moved to the reporting database. \n",
    "This is the database used by Caboodle report writers to create reports.\n",
    "\n",
    "''' \n",
    "\n",
    "with open(file_name, 'a', encoding='utf-8') as f:\n",
    "     f.write(definition)\n",
    "     display(Markdown(definition))  \n",
    "\n",
    "if displaying_images:\n",
    "    display(Image(filename=\"Clarity_etl_to_caboodle.png\"))  \n",
    "    display(Image(filename=\"SSIS_Package.png\"))  "
   ]
  },
  {
   "cell_type": "code",
   "execution_count": 12,
   "id": "872310bf",
   "metadata": {
    "scrolled": true
   },
   "outputs": [
    {
     "data": {
      "text/markdown": [
       "\n",
       "\n",
       "## Schemas in Caboodle\n",
       "\n",
       "In relational databases, a schema is a collection of database objects. Schemas allow content to be grouped\n",
       "together for many different purposes, such as filtering for service area. There are three Epic released\n",
       "schemas in Caboodle relevant to report writers.\n",
       "\n",
       "1. The **dbo schema** is the data source for SlicerDicer. The Caboodle Dictionary in the Caboodle\n",
       "Console and the Caboodle portion of the Cogito Data Dictionary reflect the contents of the dbo\n",
       "schema.\n",
       "\n",
       "2. The **FullAccess schema** contains everything for report writers from the dbo schema and more. For\n",
       "example, many columns in dbo are known as **binary columns** because they only contain values of\n",
       "**1 or 0**. In FullAccess, many of these columns have a paired column that contains values of **Yes and\n",
       "No** instead of **1 and 0**. FullAccess should be your **default schema** for reporting.\n",
       "\n",
       "\n",
       "3. The **FilteredAccess schema** is similar to the FullAccess schema except report writers who only\n",
       "have access to the FilteredAccess schema will have their results filtered based on their user\n",
       "security. FilteredAccess is commonly used with **Community Connect organizations**.\n",
       " \n",
       "\n"
      ],
      "text/plain": [
       "<IPython.core.display.Markdown object>"
      ]
     },
     "metadata": {},
     "output_type": "display_data"
    }
   ],
   "source": [
    "definition = '''\n",
    "\n",
    "## Schemas in Caboodle\n",
    "\n",
    "In relational databases, a schema is a collection of database objects. Schemas allow content to be grouped\n",
    "together for many different purposes, such as filtering for service area. There are three Epic released\n",
    "schemas in Caboodle relevant to report writers.\n",
    "\n",
    "1. The **dbo schema** is the data source for SlicerDicer. The Caboodle Dictionary in the Caboodle\n",
    "Console and the Caboodle portion of the Cogito Data Dictionary reflect the contents of the dbo\n",
    "schema.\n",
    "\n",
    "2. The **FullAccess schema** contains everything for report writers from the dbo schema and more. For\n",
    "example, many columns in dbo are known as **binary columns** because they only contain values of\n",
    "**1 or 0**. In FullAccess, many of these columns have a paired column that contains values of **Yes and\n",
    "No** instead of **1 and 0**. FullAccess should be your **default schema** for reporting.\n",
    "\n",
    "\n",
    "3. The **FilteredAccess schema** is similar to the FullAccess schema except report writers who only\n",
    "have access to the FilteredAccess schema will have their results filtered based on their user\n",
    "security. FilteredAccess is commonly used with **Community Connect organizations**.\n",
    " \n",
    "\n",
    "''' \n",
    "\n",
    "with open(file_name, 'a', encoding='utf-8') as f:\n",
    "     f.write(definition)\n",
    "\n",
    "display(Markdown(definition))  \n",
    "if displaying_images:\n",
    "    display(Image(filename=\"caboodle_schemas.png\"))  "
   ]
  },
  {
   "cell_type": "code",
   "execution_count": 13,
   "id": "d664825e",
   "metadata": {},
   "outputs": [
    {
     "data": {
      "text/markdown": [
       "\n",
       "\n",
       "## Enforced Naming Conventions\n",
       "\n",
       "Another advantage to using Caboodle is the **enforced naming convention** of the database. All tables and\n",
       "columns will be written using **PascalCase**. The first letter in each word will be capitalized without\n",
       "underscores between the words.\n",
       "\n",
       "#### Key Columns in Caboodle\n",
       "Report writers who have worked with relational databases are familiar with the idea of a key used to\n",
       "identify a row in a table. All **key columns** in Caboodle are **surrogate keys** including **primary keys** and\n",
       "**lookup columns**.\n",
       "\n",
       "1. **Surrogate Key** Any key column where the columns value does not exist in the source database\n",
       "and is created during the ETL process. In Caboodle all columns that end in **Key** are **surrogate\n",
       "keys**. This is necessary because Caboodle contains both Epic and non‐Epic data.\n",
       "\n",
       "A **surrogate key** in a relational database is a unique, artificial identifier for a record (row) that does not\n",
       "come directly from the actual data. Unlike a **natural key** (which could be something like a Social Security number \n",
       "or a product code), a surrogate key is generated purely for identification purposes common examples include auto incremented \n",
       "numbers or universally unique identifiers (UUIDs).\n",
       "\n",
       "2. **Lookup Column** A column in one table whose value identifies at least one row in another table.\n",
       "Most tables in Caboodle have at least one lookup column. **Lookup columns in Caboodle** will always\n",
       "end in **Key** and the Cogito Data Dictionary will tell report writers what table the lookup column\n",
       "references.\n",
       "\n",
       "For many DMCs **Data Model Components** in Caboodle the primary key will follow a strict naming\n",
       "convention. For **PatientDim**, the primary key is **PatientKey**. **PatientKey** is a **surrogate key**, which means the\n",
       "value stored in Caboodle does not exist in the source databases. \n",
       "\n",
       "If you are looking for identifying information for validation in Caboodle, consider using the **EpicId** or **EpicCsn** columns. Columns that end\n",
       "in **EpicId** and **EpicCsn** store source database identifiers.\n",
       " \n",
       "\n"
      ],
      "text/plain": [
       "<IPython.core.display.Markdown object>"
      ]
     },
     "metadata": {},
     "output_type": "display_data"
    }
   ],
   "source": [
    "definition = '''\n",
    "\n",
    "## Enforced Naming Conventions\n",
    "\n",
    "Another advantage to using Caboodle is the **enforced naming convention** of the database. All tables and\n",
    "columns will be written using **PascalCase**. The first letter in each word will be capitalized without\n",
    "underscores between the words.\n",
    "\n",
    "#### Key Columns in Caboodle\n",
    "Report writers who have worked with relational databases are familiar with the idea of a key used to\n",
    "identify a row in a table. All **key columns** in Caboodle are **surrogate keys** including **primary keys** and\n",
    "**lookup columns**.\n",
    "\n",
    "1. **Surrogate Key** Any key column where the columns value does not exist in the source database\n",
    "and is created during the ETL process. In Caboodle all columns that end in **Key** are **surrogate\n",
    "keys**. This is necessary because Caboodle contains both Epic and non‐Epic data.\n",
    "\n",
    "A **surrogate key** in a relational database is a unique, artificial identifier for a record (row) that does not\n",
    "come directly from the actual data. Unlike a **natural key** (which could be something like a Social Security number \n",
    "or a product code), a surrogate key is generated purely for identification purposes common examples include auto incremented \n",
    "numbers or universally unique identifiers (UUIDs).\n",
    "\n",
    "2. **Lookup Column** A column in one table whose value identifies at least one row in another table.\n",
    "Most tables in Caboodle have at least one lookup column. **Lookup columns in Caboodle** will always\n",
    "end in **Key** and the Cogito Data Dictionary will tell report writers what table the lookup column\n",
    "references.\n",
    "\n",
    "For many DMCs **Data Model Components** in Caboodle the primary key will follow a strict naming\n",
    "convention. For **PatientDim**, the primary key is **PatientKey**. **PatientKey** is a **surrogate key**, which means the\n",
    "value stored in Caboodle does not exist in the source databases. \n",
    "\n",
    "If you are looking for identifying information for validation in Caboodle, consider using the **EpicId** or **EpicCsn** columns. Columns that end\n",
    "in **EpicId** and **EpicCsn** store source database identifiers.\n",
    " \n",
    "\n",
    "''' \n",
    "\n",
    "with open(file_name, 'a', encoding='utf-8') as f:\n",
    "     f.write(definition)\n",
    "\n",
    "display(Markdown(definition))  "
   ]
  },
  {
   "cell_type": "code",
   "execution_count": 14,
   "id": "12eeb50a",
   "metadata": {},
   "outputs": [
    {
     "data": {
      "text/markdown": [
       "\n",
       "\n",
       "## Data Model Component Naming Convention\n",
       "\n",
       "Tables in Caboodle do not stand alone, each is considered part of a **Data Model Component (DMC)**. A\n",
       "DMC consists of \n",
       "1. the table \n",
       "2. the packages used to populate the table\n",
       "3. underlying metadata tables that assist Caboodle Administrators with the ETL process. \n",
       "\n",
       "Each DMC has a type, and each type has a specific naming convention.\n",
       "These naming conventions are strictly enforced in Caboodle, allowing a tables suffix\n",
       "to provide information about its structure and purpose. These suffixes are:\n",
       "\n",
       "1. **Dim for dimensions** Dimension tables frequently referred to as **dim tables** due to their suffix contain one row \n",
       "for each entity within the set. Examples include: a medication **MedicationDim**, a patient **PatientDim**, a provider\n",
       "**ProviderDim**. Compared to fact tables, dimension tables generally contain more data and fewer lookup columns.\n",
       "\n",
       "2. **Fact for facts** Fact tables contain one row for each occurrence of some significant, **measurable event**. Examples include:\n",
       "a provider placing an order for a medication **MedicationOrderFact** or a patient having an encounter\n",
       "**EncounterFact**. **Fact tables** tend to have quite a few lookup columns pointing to dimension tables.\n",
       "\n",
       "3. **Bridge for bridges**  Bridge tables are used in Caboodle to model **many to many relationships**. \n",
       "Examples include: a patient with many diagnoses on their problem list **DiagnosisBridge** or an authorization with many\n",
       "procedures associated with it **ProcedureBridge**. Bridge tables will be covered in more detail in Beyond Facts and\n",
       "Dimensions.\n",
       "\n",
       "4. **DataMart for data marts** Data marts are used in Caboodle to store data points from several DMCs in one place. If you were\n",
       "going to report on hospital admissions and subsequent readmissions, you would likely use HospitalReadmissionDataMart instead of\n",
       "using HospitalAdmissionFact.\n",
       "\n",
       "5. **AttributeValueDim for EAV tables** Entity Attribute Value **EAV** dimension tables contain information about values of \n",
       "additional attributes in Caboodle. The EAV structure will be covered in more detail in COG240 Clinical Data Model.\n",
       " <suffix>X for custom tables\n",
       " \n",
       "**Caboodle is customizable**. When you are working with the Caboodle at home, you may find tables of any\n",
       "type **fact, dim, bridge etc.** that ends in an X. When a DMCs name ends with X, you know that a Caboodle\n",
       "developer at your organization has created this custom DMC.\n",
       " \n"
      ],
      "text/plain": [
       "<IPython.core.display.Markdown object>"
      ]
     },
     "metadata": {},
     "output_type": "display_data"
    }
   ],
   "source": [
    "definition = '''\n",
    "\n",
    "## Data Model Component Naming Convention\n",
    "\n",
    "Tables in Caboodle do not stand alone, each is considered part of a **Data Model Component (DMC)**. A\n",
    "DMC consists of \n",
    "1. the table \n",
    "2. the packages used to populate the table\n",
    "3. underlying metadata tables that assist Caboodle Administrators with the ETL process. \n",
    "\n",
    "Each DMC has a type, and each type has a specific naming convention.\n",
    "These naming conventions are strictly enforced in Caboodle, allowing a tables suffix\n",
    "to provide information about its structure and purpose. These suffixes are:\n",
    "\n",
    "1. **Dim for dimensions** Dimension tables frequently referred to as **dim tables** due to their suffix contain one row \n",
    "for each entity within the set. Examples include: a medication **MedicationDim**, a patient **PatientDim**, a provider\n",
    "**ProviderDim**. Compared to fact tables, dimension tables generally contain more data and fewer lookup columns.\n",
    "\n",
    "2. **Fact for facts** Fact tables contain one row for each occurrence of some significant, **measurable event**. Examples include:\n",
    "a provider placing an order for a medication **MedicationOrderFact** or a patient having an encounter\n",
    "**EncounterFact**. **Fact tables** tend to have quite a few lookup columns pointing to dimension tables.\n",
    "\n",
    "3. **Bridge for bridges**  Bridge tables are used in Caboodle to model **many to many relationships**. \n",
    "Examples include: a patient with many diagnoses on their problem list **DiagnosisBridge** or an authorization with many\n",
    "procedures associated with it **ProcedureBridge**. Bridge tables will be covered in more detail in Beyond Facts and\n",
    "Dimensions.\n",
    "\n",
    "4. **DataMart for data marts** Data marts are used in Caboodle to store data points from several DMCs in one place. If you were\n",
    "going to report on hospital admissions and subsequent readmissions, you would likely use HospitalReadmissionDataMart instead of\n",
    "using HospitalAdmissionFact.\n",
    "\n",
    "5. **AttributeValueDim for EAV tables** Entity Attribute Value **EAV** dimension tables contain information about values of \n",
    "additional attributes in Caboodle. The EAV structure will be covered in more detail in COG240 Clinical Data Model.\n",
    " <suffix>X for custom tables\n",
    " \n",
    "**Caboodle is customizable**. When you are working with the Caboodle at home, you may find tables of any\n",
    "type **fact, dim, bridge etc.** that ends in an X. When a DMCs name ends with X, you know that a Caboodle\n",
    "developer at your organization has created this custom DMC.\n",
    " \n",
    "''' \n",
    "\n",
    "with open(file_name, 'a', encoding='utf-8') as f:\n",
    "     f.write(definition)\n",
    "\n",
    "display(Markdown(definition))  "
   ]
  },
  {
   "cell_type": "code",
   "execution_count": 15,
   "id": "6446f6c0",
   "metadata": {},
   "outputs": [
    {
     "data": {
      "text/markdown": [
       "\n",
       "\n",
       "## Why Use Caboodle?\n",
       "There are several advantages to using Caboodle.\n",
       "\n",
       "### Epic and Non Epic Data\n",
       "\n",
       "Caboodle provides an infrastructure for combining Epic and non Epic data. In some cases, space has been\n",
       "provided for data that will not be populated by Epics software but that your organization might want to\n",
       "extract from a non Epic source. This includes items like the responses from patient satisfaction surveys,\n",
       "information about charge costs, and paid claims data. In addition, custom data packages can be written by\n",
       "Caboodle developers to accommodate your organizations reporting needs.\n",
       "\n",
       "### Hyperspace Integration\n",
       "\n",
       "**Hyperspace is Epics main front end program**. The vast majority of workflows done by end users, including\n",
       "data entry workflows, are done in Hyperspace. Within Hyperspace are many applications, each\n",
       "specializing in certain areas. SlicerDicer is one such application. **SlicerDicer is Epics self‐service reporting\n",
       "tool**. It dynamically queries Caboodle data based on selected criteria, slices, and measures. This provides\n",
       "Hyperspace end users the ability to explore analytical data without requiring technical knowledge of SQL.\n",
       "Since Caboodle queries form the foundation of this tool, BI Developers with a working knowledge of the\n",
       "Caboodle data model and documentation tools can troubleshoot SlicerDicer queries and better\n",
       "understand the underlying data.\n",
       "\n"
      ],
      "text/plain": [
       "<IPython.core.display.Markdown object>"
      ]
     },
     "metadata": {},
     "output_type": "display_data"
    }
   ],
   "source": [
    "definition = '''\n",
    "\n",
    "## Why Use Caboodle?\n",
    "There are several advantages to using Caboodle.\n",
    "\n",
    "### Epic and Non Epic Data\n",
    "\n",
    "Caboodle provides an infrastructure for combining Epic and non Epic data. In some cases, space has been\n",
    "provided for data that will not be populated by Epics software but that your organization might want to\n",
    "extract from a non Epic source. This includes items like the responses from patient satisfaction surveys,\n",
    "information about charge costs, and paid claims data. In addition, custom data packages can be written by\n",
    "Caboodle developers to accommodate your organizations reporting needs.\n",
    "\n",
    "### Hyperspace Integration\n",
    "\n",
    "**Hyperspace is Epics main front end program**. The vast majority of workflows done by end users, including\n",
    "data entry workflows, are done in Hyperspace. Within Hyperspace are many applications, each\n",
    "specializing in certain areas. SlicerDicer is one such application. **SlicerDicer is Epics self‐service reporting\n",
    "tool**. It dynamically queries Caboodle data based on selected criteria, slices, and measures. This provides\n",
    "Hyperspace end users the ability to explore analytical data without requiring technical knowledge of SQL.\n",
    "Since Caboodle queries form the foundation of this tool, BI Developers with a working knowledge of the\n",
    "Caboodle data model and documentation tools can troubleshoot SlicerDicer queries and better\n",
    "understand the underlying data.\n",
    "\n",
    "''' \n",
    "\n",
    "with open(file_name, 'a', encoding='utf-8') as f:\n",
    "     f.write(definition)\n",
    "\n",
    "display(Markdown(definition))  "
   ]
  },
  {
   "cell_type": "code",
   "execution_count": 16,
   "id": "cf105c04",
   "metadata": {},
   "outputs": [
    {
     "data": {
      "text/markdown": [
       "\n",
       "\n",
       "## Simplified Report Writing\n",
       "\n",
       "Like many other data warehouses, **Caboodle** uses a **dimensional data model**. Dimensional data models\n",
       "arrange tables in a way that makes queries faster to write and more efficient to run when compared to\n",
       "other structures.\n",
       "\n",
       "1. **Accessibility** Dimensional data models are designed to be intuitive, therefore Caboodle requires\n",
       "less training for business intelligence developers than other platforms.\n",
       "2. **Efficiency** It is generally quicker and more efficient to write a report using Caboodle versus Clarity,\n",
       "Epics other relational database.\n",
       "3. **Fewer tables and simpler joins**: Reports written using Caboodle tend to have shorter run times\n",
       "since they require fewer tables and fewer multi‐column joins, which improves run‐time efficiency\n",
       "\n"
      ],
      "text/plain": [
       "<IPython.core.display.Markdown object>"
      ]
     },
     "metadata": {},
     "output_type": "display_data"
    }
   ],
   "source": [
    "definition = '''\n",
    "\n",
    "## Simplified Report Writing\n",
    "\n",
    "Like many other data warehouses, **Caboodle** uses a **dimensional data model**. Dimensional data models\n",
    "arrange tables in a way that makes queries faster to write and more efficient to run when compared to\n",
    "other structures.\n",
    "\n",
    "1. **Accessibility** Dimensional data models are designed to be intuitive, therefore Caboodle requires\n",
    "less training for business intelligence developers than other platforms.\n",
    "2. **Efficiency** It is generally quicker and more efficient to write a report using Caboodle versus Clarity,\n",
    "Epics other relational database.\n",
    "3. **Fewer tables and simpler joins**: Reports written using Caboodle tend to have shorter run times\n",
    "since they require fewer tables and fewer multi‐column joins, which improves run‐time efficiency\n",
    "\n",
    "''' \n",
    "\n",
    "with open(file_name, 'a', encoding='utf-8') as f:\n",
    "     f.write(definition)\n",
    "\n",
    "display(Markdown(definition))  "
   ]
  },
  {
   "cell_type": "code",
   "execution_count": 17,
   "id": "d45c0808",
   "metadata": {},
   "outputs": [
    {
     "data": {
      "text/markdown": [
       "\n",
       "\n",
       "## Simplified Report Writing\n",
       "\n",
       "Like many other data warehouses, **Caboodle** uses a **dimensional data model**. Dimensional data models\n",
       "arrange tables in a way that makes queries faster to write and more efficient to run when compared to\n",
       "other structures.\n",
       "\n",
       "1. **Accessibility** Dimensional data models are designed to be intuitive, therefore Caboodle requires\n",
       "less training for business intelligence developers than other platforms.\n",
       "2. **Efficiency** It is generally quicker and more efficient to write a report using Caboodle versus Clarity,\n",
       "Epics other relational database.\n",
       "3. **Fewer tables and simpler joins**: Reports written using Caboodle tend to have shorter run times\n",
       "since they require fewer tables and fewer multi column joins, which improves run time efficiency for reports.\n",
       "\n",
       "The trade off for these advantages is that dimensional data models require a more complicated ETL\n",
       "process to maintain.\n",
       "\n"
      ],
      "text/plain": [
       "<IPython.core.display.Markdown object>"
      ]
     },
     "metadata": {},
     "output_type": "display_data"
    }
   ],
   "source": [
    "definition = '''\n",
    "\n",
    "## Simplified Report Writing\n",
    "\n",
    "Like many other data warehouses, **Caboodle** uses a **dimensional data model**. Dimensional data models\n",
    "arrange tables in a way that makes queries faster to write and more efficient to run when compared to\n",
    "other structures.\n",
    "\n",
    "1. **Accessibility** Dimensional data models are designed to be intuitive, therefore Caboodle requires\n",
    "less training for business intelligence developers than other platforms.\n",
    "2. **Efficiency** It is generally quicker and more efficient to write a report using Caboodle versus Clarity,\n",
    "Epics other relational database.\n",
    "3. **Fewer tables and simpler joins**: Reports written using Caboodle tend to have shorter run times\n",
    "since they require fewer tables and fewer multi column joins, which improves run time efficiency for reports.\n",
    "\n",
    "The trade off for these advantages is that dimensional data models require a more complicated ETL\n",
    "process to maintain.\n",
    "\n",
    "''' \n",
    "\n",
    "with open(file_name, 'a', encoding='utf-8') as f:\n",
    "     f.write(definition)\n",
    "\n",
    "display(Markdown(definition))  "
   ]
  },
  {
   "cell_type": "code",
   "execution_count": 18,
   "id": "91146df3",
   "metadata": {},
   "outputs": [
    {
     "data": {
      "text/markdown": [
       "\n",
       "\n",
       "## The Star Schema\n",
       "\n",
       "Many reports in Caboodle center around events and thus around fact tables. It is more common to focus\n",
       "a report on measurable events **medication orders, patient encounters, billing transactions﴿ than on the\n",
       "entities involved with those events ﴾medications, patients, providers**. While report writers may\n",
       "occasionally be asked to write a report about the providers at their organization, they will more frequently\n",
       "be asked to write reports about something those providers did **placing a medication order** or were\n",
       "involved with **treating a patient during an encounter**.\n",
       "\n",
       "The star schema refers to the way that reports centered around fact tables appear in a join diagram. A\n",
       "fact table contains all of the entities that were involved with each event, but little additional information\n",
       "about the entities. If a report needs that additional data, joins must be made to the appropriate dimension\n",
       "tables. This is where the star schema takes shape.\n",
       "\n",
       "**MedicationOrderFact** contains lookup columns indicating which medication was ordered, for which patient\n",
       "it was ordered, and which provider ordered it, but it does not contain any additional information about\n",
       "those entities such as their names. The associated dimensions tables for each entity stores that\n",
       "information. A report about medication orders should include the name of the medication. To include that,\n",
       "we must join to MedicationDim.\n",
       "\n"
      ],
      "text/plain": [
       "<IPython.core.display.Markdown object>"
      ]
     },
     "metadata": {},
     "output_type": "display_data"
    }
   ],
   "source": [
    "definition = '''\n",
    "\n",
    "## The Star Schema\n",
    "\n",
    "Many reports in Caboodle center around events and thus around fact tables. It is more common to focus\n",
    "a report on measurable events **medication orders, patient encounters, billing transactions﴿ than on the\n",
    "entities involved with those events ﴾medications, patients, providers**. While report writers may\n",
    "occasionally be asked to write a report about the providers at their organization, they will more frequently\n",
    "be asked to write reports about something those providers did **placing a medication order** or were\n",
    "involved with **treating a patient during an encounter**.\n",
    "\n",
    "The star schema refers to the way that reports centered around fact tables appear in a join diagram. A\n",
    "fact table contains all of the entities that were involved with each event, but little additional information\n",
    "about the entities. If a report needs that additional data, joins must be made to the appropriate dimension\n",
    "tables. This is where the star schema takes shape.\n",
    "\n",
    "**MedicationOrderFact** contains lookup columns indicating which medication was ordered, for which patient\n",
    "it was ordered, and which provider ordered it, but it does not contain any additional information about\n",
    "those entities such as their names. The associated dimensions tables for each entity stores that\n",
    "information. A report about medication orders should include the name of the medication. To include that,\n",
    "we must join to MedicationDim.\n",
    "\n",
    "''' \n",
    "\n",
    "with open(file_name, 'a', encoding='utf-8') as f:\n",
    "     f.write(definition)\n",
    "\n",
    "display(Markdown(definition))  "
   ]
  },
  {
   "cell_type": "code",
   "execution_count": 19,
   "id": "e8db2071",
   "metadata": {},
   "outputs": [
    {
     "data": {
      "text/markdown": [
       "\n",
       "\n",
       "## The Star Schema\n",
       "\n",
       "Many reports in Caboodle center around events and thus around fact tables. It is more common to focus\n",
       "a report on measurable events **medication orders, patient encounters, billing transactions﴿ than on the\n",
       "entities involved with those events ﴾medications, patients, providers**. While report writers may\n",
       "occasionally be asked to write a report about the providers at their organization, they will more frequently\n",
       "be asked to write reports about something those providers did **placing a medication order** or were\n",
       "involved with **treating a patient during an encounter**.\n",
       "\n",
       "The star schema refers to the way that reports centered around fact tables appear in a join diagram. A\n",
       "fact table contains all of the entities that were involved with each event, but little additional information\n",
       "about the entities. If a report needs that additional data, joins must be made to the appropriate dimension\n",
       "tables. This is where the star schema takes shape.\n",
       "\n",
       "**MedicationOrderFact** contains lookup columns indicating which medication was ordered, for which patient\n",
       "it was ordered, and which provider ordered it, but it does not contain any additional information about\n",
       "those entities such as their names. The associated dimensions tables for each entity stores that\n",
       "information. A report about medication orders should include the name of the medication. To include that,\n",
       "we must join to MedicationDim.\n",
       "\n"
      ],
      "text/plain": [
       "<IPython.core.display.Markdown object>"
      ]
     },
     "metadata": {},
     "output_type": "display_data"
    }
   ],
   "source": [
    "definition = '''\n",
    "\n",
    "## The Star Schema\n",
    "\n",
    "Many reports in Caboodle center around events and thus around fact tables. It is more common to focus\n",
    "a report on measurable events **medication orders, patient encounters, billing transactions﴿ than on the\n",
    "entities involved with those events ﴾medications, patients, providers**. While report writers may\n",
    "occasionally be asked to write a report about the providers at their organization, they will more frequently\n",
    "be asked to write reports about something those providers did **placing a medication order** or were\n",
    "involved with **treating a patient during an encounter**.\n",
    "\n",
    "The star schema refers to the way that reports centered around fact tables appear in a join diagram. A\n",
    "fact table contains all of the entities that were involved with each event, but little additional information\n",
    "about the entities. If a report needs that additional data, joins must be made to the appropriate dimension\n",
    "tables. This is where the star schema takes shape.\n",
    "\n",
    "**MedicationOrderFact** contains lookup columns indicating which medication was ordered, for which patient\n",
    "it was ordered, and which provider ordered it, but it does not contain any additional information about\n",
    "those entities such as their names. The associated dimensions tables for each entity stores that\n",
    "information. A report about medication orders should include the name of the medication. To include that,\n",
    "we must join to MedicationDim.\n",
    "\n",
    "''' \n",
    "\n",
    "with open(file_name, 'a', encoding='utf-8') as f:\n",
    "     f.write(definition)\n",
    "\n",
    "display(Markdown(definition))  "
   ]
  },
  {
   "cell_type": "code",
   "execution_count": 20,
   "id": "aed47388",
   "metadata": {},
   "outputs": [
    {
     "data": {
      "text/markdown": [
       "\n",
       "\n",
       "## Key Terms for study check list \n",
       "\n",
       "1. **ETL**: A process that involves extracting data from sources, transforming it to fit operational needs, and loading it into a target system or database.  \n",
       "2. **Staging database**: A temporary, intermediary database designed to hold raw or lightly transformed data before further processing or loading into the final destination.  \n",
       "3. **Reporting database**: A dedicated database optimized for running queries, analytics, and reports, often holding summarized or aggregated data.  \n",
       "4. **SSIS package**: A deployable unit in SQL Server Integration Services containing the definitions and tasks needed to move and transform data between sources and destinations.  \n",
       "5. **dbo schema**: The default schema in SQL Server that typically contains the core objects (tables, views, stored procedures) created by database owners.  \n",
       "6. **FullAccess schema**: A custom schema (in some systems) intended to allow unrestricted read and write access to its database objects.  \n",
       "7. **FilteredAccess schema**: A custom schema used to control or limit the visibility and operations on its data, often enforcing specific security or business rules.  \n",
       "8. **Surrogate key**: An artificial, system generated unique identifier used as the primary key instead of a business specific (natural) identifier.  \n",
       "9. **Source identifier**: A field that indicates where a specific record originated, helping track data lineage in multi system environments.  \n",
       "10. **Primary key**: A column or set of columns that uniquely identifies each row in a table, enforcing uniqueness and preventing duplicate records.  \n",
       "11. **Lookup column**: A column used to reference related data in another table, enabling relational lookups and joins.  \n",
       "\n"
      ],
      "text/plain": [
       "<IPython.core.display.Markdown object>"
      ]
     },
     "metadata": {},
     "output_type": "display_data"
    }
   ],
   "source": [
    "definition = '''\n",
    "\n",
    "## Key Terms for study check list \n",
    "\n",
    "1. **ETL**: A process that involves extracting data from sources, transforming it to fit operational needs, and loading it into a target system or database.  \n",
    "2. **Staging database**: A temporary, intermediary database designed to hold raw or lightly transformed data before further processing or loading into the final destination.  \n",
    "3. **Reporting database**: A dedicated database optimized for running queries, analytics, and reports, often holding summarized or aggregated data.  \n",
    "4. **SSIS package**: A deployable unit in SQL Server Integration Services containing the definitions and tasks needed to move and transform data between sources and destinations.  \n",
    "5. **dbo schema**: The default schema in SQL Server that typically contains the core objects (tables, views, stored procedures) created by database owners.  \n",
    "6. **FullAccess schema**: A custom schema (in some systems) intended to allow unrestricted read and write access to its database objects.  \n",
    "7. **FilteredAccess schema**: A custom schema used to control or limit the visibility and operations on its data, often enforcing specific security or business rules.  \n",
    "8. **Surrogate key**: An artificial, system generated unique identifier used as the primary key instead of a business specific (natural) identifier.  \n",
    "9. **Source identifier**: A field that indicates where a specific record originated, helping track data lineage in multi system environments.  \n",
    "10. **Primary key**: A column or set of columns that uniquely identifies each row in a table, enforcing uniqueness and preventing duplicate records.  \n",
    "11. **Lookup column**: A column used to reference related data in another table, enabling relational lookups and joins.  \n",
    "\n",
    "''' \n",
    "\n",
    "with open(file_name, 'a', encoding='utf-8') as f:\n",
    "     f.write(definition)\n",
    "\n",
    "display(Markdown(definition))  "
   ]
  },
  {
   "cell_type": "code",
   "execution_count": 21,
   "id": "b7df2399",
   "metadata": {},
   "outputs": [
    {
     "data": {
      "text/markdown": [
       "\n",
       "\n",
       "## Study Checklist\n",
       "\n",
       "1. Identify the benefits of using Caboodle\n",
       "2. Identify columns in a table that contain Epic identifiers\n",
       "3. How does data flow into Caboodle \n",
       "4. The relationship between **Slicer dicer and caboodle** SlicerDicer is Epics self service reporting tool in Hyperspace that dynamically queries Caboodle data.\n"
      ],
      "text/plain": [
       "<IPython.core.display.Markdown object>"
      ]
     },
     "metadata": {},
     "output_type": "display_data"
    }
   ],
   "source": [
    "definition = '''\n",
    "\n",
    "## Study Checklist\n",
    "\n",
    "1. Identify the benefits of using Caboodle\n",
    "2. Identify columns in a table that contain Epic identifiers\n",
    "3. How does data flow into Caboodle \n",
    "4. The relationship between **Slicer dicer and caboodle** SlicerDicer is Epics self service reporting tool in Hyperspace that dynamically queries Caboodle data.\n",
    "''' \n",
    "\n",
    "with open(file_name, 'a', encoding='utf-8') as f:\n",
    "     f.write(definition)\n",
    "\n",
    "display(Markdown(definition))  "
   ]
  },
  {
   "cell_type": "code",
   "execution_count": null,
   "id": "23d5bb20",
   "metadata": {},
   "outputs": [],
   "source": []
  },
  {
   "cell_type": "code",
   "execution_count": null,
   "id": "74377737",
   "metadata": {},
   "outputs": [],
   "source": []
  },
  {
   "cell_type": "code",
   "execution_count": null,
   "id": "588d93d4",
   "metadata": {},
   "outputs": [],
   "source": []
  },
  {
   "cell_type": "code",
   "execution_count": null,
   "id": "d9e51965",
   "metadata": {},
   "outputs": [],
   "source": []
  },
  {
   "cell_type": "code",
   "execution_count": null,
   "id": "59ce3725",
   "metadata": {},
   "outputs": [],
   "source": []
  },
  {
   "cell_type": "code",
   "execution_count": null,
   "id": "6621e332",
   "metadata": {},
   "outputs": [],
   "source": []
  },
  {
   "cell_type": "code",
   "execution_count": null,
   "id": "573e6e98",
   "metadata": {},
   "outputs": [],
   "source": []
  },
  {
   "cell_type": "code",
   "execution_count": null,
   "id": "2ea02a26",
   "metadata": {},
   "outputs": [],
   "source": []
  },
  {
   "cell_type": "code",
   "execution_count": null,
   "id": "f1d493ee",
   "metadata": {},
   "outputs": [],
   "source": []
  },
  {
   "cell_type": "code",
   "execution_count": null,
   "id": "76efc895",
   "metadata": {},
   "outputs": [],
   "source": []
  },
  {
   "cell_type": "code",
   "execution_count": 22,
   "id": "9cc96349",
   "metadata": {},
   "outputs": [
    {
     "data": {
      "text/markdown": [
       "\n",
       "\n",
       "## Chapter 3  Investigating Caboodle \n",
       "\n",
       "1. Introduction\n",
       "2. Navigating the Cogito Data Dictionary\n",
       "3. The Overview Section\n",
       "4. The Columns Section\n",
       "5. Lineage\n",
       "6. Reporting Availability\n",
       "7. ER Diagram Section\n",
       "8. Dependencies\n",
       "9. Indexes\n",
       "10. Packages\n",
       "11. Advanced\n",
       "12. Additional Navigation\n",
       "13. Exercise 3 1  Investigating Caboodle\n",
       "14. Research Tools\n",
       "15. Reporting with Caboodle\n",
       "16. SlicerDicer Troubleshooting Queries\n",
       "17. Join Diagrams\n",
       "18. Exercise 3 2 Creating a Join Diagram and Writing a Query\n",
       "19. After Class Exercise 3 1  Research using SlicerDicer Troubleshooting\n",
       "20. Reviewing the Chapter\n"
      ],
      "text/plain": [
       "<IPython.core.display.Markdown object>"
      ]
     },
     "metadata": {},
     "output_type": "display_data"
    }
   ],
   "source": [
    "definition = '''\n",
    "\n",
    "## Chapter 3  Investigating Caboodle \n",
    "\n",
    "1. Introduction\n",
    "2. Navigating the Cogito Data Dictionary\n",
    "3. The Overview Section\n",
    "4. The Columns Section\n",
    "5. Lineage\n",
    "6. Reporting Availability\n",
    "7. ER Diagram Section\n",
    "8. Dependencies\n",
    "9. Indexes\n",
    "10. Packages\n",
    "11. Advanced\n",
    "12. Additional Navigation\n",
    "13. Exercise 3 1  Investigating Caboodle\n",
    "14. Research Tools\n",
    "15. Reporting with Caboodle\n",
    "16. SlicerDicer Troubleshooting Queries\n",
    "17. Join Diagrams\n",
    "18. Exercise 3 2 Creating a Join Diagram and Writing a Query\n",
    "19. After Class Exercise 3 1  Research using SlicerDicer Troubleshooting\n",
    "20. Reviewing the Chapter\n",
    "''' \n",
    "\n",
    "with open(file_name, 'a', encoding='utf-8') as f:\n",
    "     f.write(definition)\n",
    "\n",
    "display(Markdown(definition))  "
   ]
  },
  {
   "cell_type": "code",
   "execution_count": 23,
   "id": "b3cb8f00",
   "metadata": {},
   "outputs": [
    {
     "data": {
      "text/markdown": [
       "\n",
       "\n",
       "## Introduction\n",
       "\n",
       "The **Cogito Data Dictionary** is your roadmap for writing reports with the Caboodle database. It contains\n",
       "descriptions of **tables and columns**, important characteristics of each database object, table level and\n",
       "column level data lineage, information to help identify joins, and more. Other documentation on Galaxy is\n",
       "also available to learn more about reporting on unfamiliar topics and new database objects as Epic\n",
       "releases them.\n",
       "\n",
       "By the End of This Lesson, You Will Be Able To \n",
       "1. Investigate Caboodle tables using the Analytics Catalog\n",
       "2. Search the Analytics Catalog for a Caboodle table using an INI and item number\n",
       "3. Open a table in the Analytics Catalog to investigate the columns\n",
       "4. Identify the granularity of a table in Caboodle\n",
       "5. Identify the data lineage for a Caboodle table\n",
       "6. Identify the data lineage for a Caboodle column\n",
       "7. Use Caboodle's ER diagrams to research database objects\n"
      ],
      "text/plain": [
       "<IPython.core.display.Markdown object>"
      ]
     },
     "metadata": {},
     "output_type": "display_data"
    }
   ],
   "source": [
    "definition = '''\n",
    "\n",
    "## Introduction\n",
    "\n",
    "The **Cogito Data Dictionary** is your roadmap for writing reports with the Caboodle database. It contains\n",
    "descriptions of **tables and columns**, important characteristics of each database object, table level and\n",
    "column level data lineage, information to help identify joins, and more. Other documentation on Galaxy is\n",
    "also available to learn more about reporting on unfamiliar topics and new database objects as Epic\n",
    "releases them.\n",
    "\n",
    "By the End of This Lesson, You Will Be Able To \n",
    "1. Investigate Caboodle tables using the Analytics Catalog\n",
    "2. Search the Analytics Catalog for a Caboodle table using an INI and item number\n",
    "3. Open a table in the Analytics Catalog to investigate the columns\n",
    "4. Identify the granularity of a table in Caboodle\n",
    "5. Identify the data lineage for a Caboodle table\n",
    "6. Identify the data lineage for a Caboodle column\n",
    "7. Use Caboodle's ER diagrams to research database objects\n",
    "''' \n",
    "\n",
    "with open(file_name, 'a', encoding='utf-8') as f:\n",
    "     f.write(definition)\n",
    "\n",
    "display(Markdown(definition))  "
   ]
  },
  {
   "cell_type": "code",
   "execution_count": 24,
   "id": "cdcde2c8",
   "metadata": {},
   "outputs": [
    {
     "data": {
      "text/markdown": [
       "\n",
       "\n",
       "## Navigating the Cogito Data Dictionary\n",
       "\n",
       "The **Caboodle Dictionary** is now completely integrated within the **Analytics Catalog** as part of the Cogito\n",
       "Data Dictionary in Hyperspace. When you are researching Caboodle database objects, you will find them\n",
       "in the same location as all of Epics reporting content.\n",
       "\n"
      ],
      "text/plain": [
       "<IPython.core.display.Markdown object>"
      ]
     },
     "metadata": {},
     "output_type": "display_data"
    }
   ],
   "source": [
    "definition = '''\n",
    "\n",
    "## Navigating the Cogito Data Dictionary\n",
    "\n",
    "The **Caboodle Dictionary** is now completely integrated within the **Analytics Catalog** as part of the Cogito\n",
    "Data Dictionary in Hyperspace. When you are researching Caboodle database objects, you will find them\n",
    "in the same location as all of Epics reporting content.\n",
    "\n",
    "''' \n",
    "\n",
    "with open(file_name, 'a', encoding='utf-8') as f:\n",
    "     f.write(definition)\n",
    "\n",
    "display(Markdown(definition))  "
   ]
  },
  {
   "cell_type": "code",
   "execution_count": 25,
   "id": "5410007a",
   "metadata": {},
   "outputs": [
    {
     "data": {
      "text/markdown": [
       "\n",
       "\n",
       "## The Overview Section\n",
       "\n",
       "The Overview section is the top section when viewing a database object in the Analytics Catalog. It\n",
       "displays:\n",
       "1. A description of the database object.\n",
       "2. Chips that provide some information about the database object including the type of database\n",
       "object.\n",
       "3. The granularity of the database object.\n",
       "\n"
      ],
      "text/plain": [
       "<IPython.core.display.Markdown object>"
      ]
     },
     "metadata": {},
     "output_type": "display_data"
    }
   ],
   "source": [
    "definition = '''\n",
    "\n",
    "## The Overview Section\n",
    "\n",
    "The Overview section is the top section when viewing a database object in the Analytics Catalog. It\n",
    "displays:\n",
    "1. A description of the database object.\n",
    "2. Chips that provide some information about the database object including the type of database\n",
    "object.\n",
    "3. The granularity of the database object.\n",
    "\n",
    "''' \n",
    "\n",
    "with open(file_name, 'a', encoding='utf-8') as f:\n",
    "     f.write(definition)\n",
    "\n",
    "display(Markdown(definition))  "
   ]
  },
  {
   "cell_type": "code",
   "execution_count": 26,
   "id": "0c6c01f5",
   "metadata": {},
   "outputs": [
    {
     "data": {
      "text/markdown": [
       "\n",
       "\n",
       "## The Columns Section\n",
       " \n",
       "The Columns section is directly below the overview section and lists out some key information about the\n",
       "columns including:\n",
       "1. **Name** the name of the column in the Caboodle database. \n",
       "2. **Data Type** the data type of the column\n",
       "3. **Available** the available column will have a SD icon if SlicerDicer can report on the column. \n",
       "4. **Links to** Populated for lookup columns. The Links to section lists out the database object that\n",
       "the lookup column references.\n",
       "5. **Chronicles Info** The items in Chronicles that are documented in the columns data lineage.\n",
       "6. **Description** A brief description of the column. If the description is too large to fit in that cell, click\n",
       "on the chevrons to expand out that cell to display the full description.\n"
      ],
      "text/plain": [
       "<IPython.core.display.Markdown object>"
      ]
     },
     "metadata": {},
     "output_type": "display_data"
    }
   ],
   "source": [
    "definition = '''\n",
    "\n",
    "## The Columns Section\n",
    " \n",
    "The Columns section is directly below the overview section and lists out some key information about the\n",
    "columns including:\n",
    "1. **Name** the name of the column in the Caboodle database. \n",
    "2. **Data Type** the data type of the column\n",
    "3. **Available** the available column will have a SD icon if SlicerDicer can report on the column. \n",
    "4. **Links to** Populated for lookup columns. The Links to section lists out the database object that\n",
    "the lookup column references.\n",
    "5. **Chronicles Info** The items in Chronicles that are documented in the columns data lineage.\n",
    "6. **Description** A brief description of the column. If the description is too large to fit in that cell, click\n",
    "on the chevrons to expand out that cell to display the full description.\n",
    "''' \n",
    "\n",
    "with open(file_name, 'a', encoding='utf-8') as f:\n",
    "     f.write(definition)\n",
    "\n",
    "display(Markdown(definition))  "
   ]
  },
  {
   "cell_type": "code",
   "execution_count": 27,
   "id": "1d584c6e",
   "metadata": {},
   "outputs": [
    {
     "data": {
      "text/markdown": [
       "\n",
       "\n",
       "## ER Diagram section\n",
       "\n",
       "Facts and data marts will include an **ER Diagram section** after the Columns section. The ER Diagram\n",
       "section will be built in a classic star schema format with the table you are investigating in the center and\n",
       "all of the tables it can reference around it. To investigate the possible joins, click on one of the lookup\n",
       "columns in EncounterFact, or one of the identifying columns in one of the exterior tables.\n",
       "\n",
       "There may be more than one possible option to join two tables. If there is a durable key available, this is\n",
       "the recommended lookup column to use with the condition <LookupTable>.IsCurrent = 1. The **Change\n",
       "Tracking lesson**  will elaborate on why this is the case.\n",
       "\n",
       "## Dependencies\n",
       "\n",
       "The **Dependencies section** indicates what database objects a table is dependent on. For tables in\n",
       "Caboodle, these might be Clarity tables and columns or other Caboodle tables and columns. You\n",
       "are provided with the tables and columns that the table is dependent on.\n",
       "\n",
       "## Indexes\n",
       "\n",
       "The **Indexes section** lists which columns if any are indexed in this table. Indexed columns can\n",
       "improve the efficiency of your query compared to non indexed columns when used in logical expressions\n",
       "in a SQL query.\n",
       "\n",
       "## Packages\n",
       "\n",
       "The **Packages section** is the last section in the dictionary. It lists the Epic released and custom SSIS\n",
       "packages that populate the table and their queries. It is possible for more than one SSIS package to\n",
       "populate a table in Caboodle. It is also possible for multiple sources to populate a table in Caboodle.\n",
       "\n",
       "## Advanced\n",
       "\n",
       "The **Advanced section** lists metadata tables that are part of this DMC which are used during ETL. You can\n",
       "learn more about them in COG280 Cogito Systems Administration I, but they will not be relevant to this\n",
       "\n"
      ],
      "text/plain": [
       "<IPython.core.display.Markdown object>"
      ]
     },
     "metadata": {},
     "output_type": "display_data"
    }
   ],
   "source": [
    "definition = '''\n",
    "\n",
    "## ER Diagram section\n",
    "\n",
    "Facts and data marts will include an **ER Diagram section** after the Columns section. The ER Diagram\n",
    "section will be built in a classic star schema format with the table you are investigating in the center and\n",
    "all of the tables it can reference around it. To investigate the possible joins, click on one of the lookup\n",
    "columns in EncounterFact, or one of the identifying columns in one of the exterior tables.\n",
    "\n",
    "There may be more than one possible option to join two tables. If there is a durable key available, this is\n",
    "the recommended lookup column to use with the condition <LookupTable>.IsCurrent = 1. The **Change\n",
    "Tracking lesson**  will elaborate on why this is the case.\n",
    "\n",
    "## Dependencies\n",
    "\n",
    "The **Dependencies section** indicates what database objects a table is dependent on. For tables in\n",
    "Caboodle, these might be Clarity tables and columns or other Caboodle tables and columns. You\n",
    "are provided with the tables and columns that the table is dependent on.\n",
    "\n",
    "## Indexes\n",
    "\n",
    "The **Indexes section** lists which columns if any are indexed in this table. Indexed columns can\n",
    "improve the efficiency of your query compared to non indexed columns when used in logical expressions\n",
    "in a SQL query.\n",
    "\n",
    "## Packages\n",
    "\n",
    "The **Packages section** is the last section in the dictionary. It lists the Epic released and custom SSIS\n",
    "packages that populate the table and their queries. It is possible for more than one SSIS package to\n",
    "populate a table in Caboodle. It is also possible for multiple sources to populate a table in Caboodle.\n",
    "\n",
    "## Advanced\n",
    "\n",
    "The **Advanced section** lists metadata tables that are part of this DMC which are used during ETL. You can\n",
    "learn more about them in COG280 Cogito Systems Administration I, but they will not be relevant to this\n",
    "\n",
    "''' \n",
    "\n",
    "with open(file_name, 'a', encoding='utf-8') as f:\n",
    "     f.write(definition)\n",
    "\n",
    "display(Markdown(definition))  "
   ]
  },
  {
   "cell_type": "code",
   "execution_count": 28,
   "id": "6cf141f8",
   "metadata": {},
   "outputs": [
    {
     "data": {
      "text/markdown": [
       "\n",
       "\n",
       "## Lineage\n",
       "\n",
       "The **Source Data Lineage** section is available in the expanded column information. It contains the source\n",
       "column information documented by the Caboodle developer. If the column is populated with Epic data,\n",
       "the source column information will be Clarity tables and columns and there will also be a section listed as\n",
       "Chronicles Info. The Chronicles Info section will display the INI and item number of the items that\n",
       "populate the Clarity column.\n",
       "\n",
       "If the information in the Source Data Lineage section is not detailed enough, expand out the Package\n",
       "Lineage Details for some more information on the columns and the logic used to populate the column in\n",
       "Caboodle. \n",
       "\n",
       "Reporting Availability\n",
       "\n",
       "The **Reporting Availability** section of the column information section reveals how the column can be used\n",
       "in SlicerDicer sessions. The different filter records that utilize the column will be listed. To learn which data\n",
       "models can use those filter records, use the Record Viewer.\n"
      ],
      "text/plain": [
       "<IPython.core.display.Markdown object>"
      ]
     },
     "metadata": {},
     "output_type": "display_data"
    }
   ],
   "source": [
    "definition = '''\n",
    "\n",
    "## Lineage\n",
    "\n",
    "The **Source Data Lineage** section is available in the expanded column information. It contains the source\n",
    "column information documented by the Caboodle developer. If the column is populated with Epic data,\n",
    "the source column information will be Clarity tables and columns and there will also be a section listed as\n",
    "Chronicles Info. The Chronicles Info section will display the INI and item number of the items that\n",
    "populate the Clarity column.\n",
    "\n",
    "If the information in the Source Data Lineage section is not detailed enough, expand out the Package\n",
    "Lineage Details for some more information on the columns and the logic used to populate the column in\n",
    "Caboodle. \n",
    "\n",
    "Reporting Availability\n",
    "\n",
    "The **Reporting Availability** section of the column information section reveals how the column can be used\n",
    "in SlicerDicer sessions. The different filter records that utilize the column will be listed. To learn which data\n",
    "models can use those filter records, use the Record Viewer.\n",
    "''' \n",
    "\n",
    "with open(file_name, 'a', encoding='utf-8') as f:\n",
    "     f.write(definition)\n",
    "\n",
    "display(Markdown(definition))  "
   ]
  },
  {
   "cell_type": "code",
   "execution_count": 29,
   "id": "6c5d72b4",
   "metadata": {},
   "outputs": [
    {
     "data": {
      "text/markdown": [
       "\n",
       "\n",
       "\n",
       "## Research Tools\n",
       "For the report request in Exercise 1, the report requester had some previous knowledge about Caboodle\n",
       "and was able to recommend a fact table to use in the report. When the report requester is unable to\n",
       "provide identifying information, it will be important that you can identify tools for researching reporting\n",
       "topics in Caboodle.\n",
       "\n",
       "## Reporting with Caboodle\n",
       "The Reporting with Caboodle guide includes descriptions and reporting examples for most of the tables in\n",
       "Caboodle's reporting database. The document provides a series of reporting topics, which are broken\n",
       "down into scenarios and examples for learning to work with the Caboodle tables. Each topic includes\n",
       "common tables, example reports, and an exercise for furthering your knowledge about the topic.\n",
       "When you are assigned a report request on a topic that you are not familiar with, Reporting with\n",
       "Caboodle is a great starting resource for you to investigate prior to searching the Analytics Catalog.\n",
       "\n",
       "## SlicerDicer Troubleshooting Queries\n",
       "Another resource for researching Caboodle is the SlicerDicer troubleshoot button. If you have access to\n",
       "the troubleshooting button in SlicerDicer you have access to the underlying query that is helping to\n",
       "construct the data visualizations in SlicerDicer. Often if you are attempting to create a report that is similar\n",
       "to one you can produce in SlicerDicer, this is a way to know which database objects you want to explore\n",
       "and research more.\n"
      ],
      "text/plain": [
       "<IPython.core.display.Markdown object>"
      ]
     },
     "metadata": {},
     "output_type": "display_data"
    }
   ],
   "source": [
    "definition = '''\n",
    "\n",
    "\n",
    "## Research Tools\n",
    "For the report request in Exercise 1, the report requester had some previous knowledge about Caboodle\n",
    "and was able to recommend a fact table to use in the report. When the report requester is unable to\n",
    "provide identifying information, it will be important that you can identify tools for researching reporting\n",
    "topics in Caboodle.\n",
    "\n",
    "## Reporting with Caboodle\n",
    "The Reporting with Caboodle guide includes descriptions and reporting examples for most of the tables in\n",
    "Caboodle's reporting database. The document provides a series of reporting topics, which are broken\n",
    "down into scenarios and examples for learning to work with the Caboodle tables. Each topic includes\n",
    "common tables, example reports, and an exercise for furthering your knowledge about the topic.\n",
    "When you are assigned a report request on a topic that you are not familiar with, Reporting with\n",
    "Caboodle is a great starting resource for you to investigate prior to searching the Analytics Catalog.\n",
    "\n",
    "## SlicerDicer Troubleshooting Queries\n",
    "Another resource for researching Caboodle is the SlicerDicer troubleshoot button. If you have access to\n",
    "the troubleshooting button in SlicerDicer you have access to the underlying query that is helping to\n",
    "construct the data visualizations in SlicerDicer. Often if you are attempting to create a report that is similar\n",
    "to one you can produce in SlicerDicer, this is a way to know which database objects you want to explore\n",
    "and research more.\n",
    "''' \n",
    "\n",
    "with open(file_name, 'a', encoding='utf-8') as f:\n",
    "     f.write(definition)\n",
    "\n",
    "display(Markdown(definition))  "
   ]
  },
  {
   "cell_type": "code",
   "execution_count": 30,
   "id": "c19f5e1b",
   "metadata": {},
   "outputs": [
    {
     "data": {
      "text/markdown": [
       "\n",
       "\n",
       "## Join Diagrams\n",
       "\n",
       "**Join diagrams** are visual representations of the tables, columns, and joins involved in a query. They are\n",
       "similar in appearance to ER diagrams. However, unlike ER diagrams, which show all possible joins from a\n",
       "certain table, join diagrams show only the joins that will be used in a certain report. They allow report\n",
       "writers to map out a query before writing the code, making the process of writing the code easier and\n",
       "more efficient. Join diagrams can be especially helpful for report writers who are new to SQL, but they are\n",
       "beneficial to anyone.\n",
       "\n",
       "In the example below, we have been asked to write a report about patient encounters that took place in\n",
       "the year 2020. The report should include the patients name, the providers name, and the date on which\n",
       "the encounter took place.\n",
       "\n",
       "A simple join diagram. The asterisks  indicate the primary key columns for each table. The lines between\n",
       "tables show the two columns that will be used in each join condition.\n"
      ],
      "text/plain": [
       "<IPython.core.display.Markdown object>"
      ]
     },
     "metadata": {},
     "output_type": "display_data"
    }
   ],
   "source": [
    "definition = '''\n",
    "\n",
    "## Join Diagrams\n",
    "\n",
    "**Join diagrams** are visual representations of the tables, columns, and joins involved in a query. They are\n",
    "similar in appearance to ER diagrams. However, unlike ER diagrams, which show all possible joins from a\n",
    "certain table, join diagrams show only the joins that will be used in a certain report. They allow report\n",
    "writers to map out a query before writing the code, making the process of writing the code easier and\n",
    "more efficient. Join diagrams can be especially helpful for report writers who are new to SQL, but they are\n",
    "beneficial to anyone.\n",
    "\n",
    "In the example below, we have been asked to write a report about patient encounters that took place in\n",
    "the year 2020. The report should include the patients name, the providers name, and the date on which\n",
    "the encounter took place.\n",
    "\n",
    "A simple join diagram. The asterisks  indicate the primary key columns for each table. The lines between\n",
    "tables show the two columns that will be used in each join condition.\n",
    "''' \n",
    "\n",
    "with open(file_name, 'a', encoding='utf-8') as f:\n",
    "     f.write(definition)\n",
    "\n",
    "display(Markdown(definition))  "
   ]
  },
  {
   "cell_type": "code",
   "execution_count": null,
   "id": "600feb77",
   "metadata": {},
   "outputs": [],
   "source": []
  },
  {
   "cell_type": "code",
   "execution_count": null,
   "id": "2396edcd",
   "metadata": {},
   "outputs": [],
   "source": []
  },
  {
   "cell_type": "code",
   "execution_count": null,
   "id": "fddd3842",
   "metadata": {},
   "outputs": [],
   "source": []
  },
  {
   "cell_type": "code",
   "execution_count": null,
   "id": "6d92c982",
   "metadata": {},
   "outputs": [],
   "source": []
  },
  {
   "cell_type": "code",
   "execution_count": null,
   "id": "66ae17dd",
   "metadata": {},
   "outputs": [],
   "source": []
  },
  {
   "cell_type": "code",
   "execution_count": null,
   "id": "d6043ce7",
   "metadata": {},
   "outputs": [],
   "source": []
  },
  {
   "cell_type": "code",
   "execution_count": null,
   "id": "eb400b2f",
   "metadata": {},
   "outputs": [],
   "source": []
  },
  {
   "cell_type": "code",
   "execution_count": null,
   "id": "50f6311e",
   "metadata": {},
   "outputs": [],
   "source": []
  },
  {
   "cell_type": "code",
   "execution_count": null,
   "id": "b4fffbee",
   "metadata": {},
   "outputs": [],
   "source": []
  },
  {
   "cell_type": "code",
   "execution_count": null,
   "id": "3c6701f9",
   "metadata": {},
   "outputs": [],
   "source": []
  },
  {
   "cell_type": "code",
   "execution_count": null,
   "id": "8155b1f3",
   "metadata": {},
   "outputs": [],
   "source": []
  },
  {
   "cell_type": "code",
   "execution_count": null,
   "id": "81f4ae25",
   "metadata": {},
   "outputs": [],
   "source": []
  },
  {
   "cell_type": "code",
   "execution_count": null,
   "id": "163e99e6",
   "metadata": {},
   "outputs": [],
   "source": []
  },
  {
   "cell_type": "code",
   "execution_count": null,
   "id": "2886c1cb",
   "metadata": {},
   "outputs": [],
   "source": []
  },
  {
   "cell_type": "code",
   "execution_count": null,
   "id": "22978412",
   "metadata": {},
   "outputs": [],
   "source": []
  },
  {
   "cell_type": "code",
   "execution_count": null,
   "id": "bd1f7ea6",
   "metadata": {},
   "outputs": [],
   "source": []
  },
  {
   "cell_type": "code",
   "execution_count": null,
   "id": "f4271501",
   "metadata": {},
   "outputs": [],
   "source": []
  },
  {
   "cell_type": "code",
   "execution_count": null,
   "id": "18e5348e",
   "metadata": {},
   "outputs": [],
   "source": []
  },
  {
   "cell_type": "code",
   "execution_count": null,
   "id": "87d23ec9",
   "metadata": {},
   "outputs": [],
   "source": []
  },
  {
   "cell_type": "code",
   "execution_count": null,
   "id": "01a121d3",
   "metadata": {},
   "outputs": [],
   "source": []
  },
  {
   "cell_type": "code",
   "execution_count": null,
   "id": "f790afde",
   "metadata": {},
   "outputs": [],
   "source": []
  },
  {
   "cell_type": "code",
   "execution_count": null,
   "id": "ff07f4f8",
   "metadata": {},
   "outputs": [],
   "source": []
  },
  {
   "cell_type": "code",
   "execution_count": null,
   "id": "9207f309",
   "metadata": {},
   "outputs": [],
   "source": []
  },
  {
   "cell_type": "code",
   "execution_count": null,
   "id": "ee9b1356",
   "metadata": {},
   "outputs": [],
   "source": []
  },
  {
   "cell_type": "code",
   "execution_count": null,
   "id": "70ac40ab",
   "metadata": {},
   "outputs": [],
   "source": []
  },
  {
   "cell_type": "code",
   "execution_count": null,
   "id": "1f105d99",
   "metadata": {},
   "outputs": [],
   "source": []
  },
  {
   "cell_type": "code",
   "execution_count": null,
   "id": "e95806be",
   "metadata": {},
   "outputs": [],
   "source": []
  },
  {
   "cell_type": "code",
   "execution_count": null,
   "id": "acaa3872",
   "metadata": {},
   "outputs": [],
   "source": []
  },
  {
   "cell_type": "code",
   "execution_count": null,
   "id": "dced3877",
   "metadata": {},
   "outputs": [],
   "source": []
  },
  {
   "cell_type": "code",
   "execution_count": null,
   "id": "d1ec83ad",
   "metadata": {},
   "outputs": [],
   "source": []
  },
  {
   "cell_type": "code",
   "execution_count": null,
   "id": "2337dac0",
   "metadata": {},
   "outputs": [],
   "source": []
  },
  {
   "cell_type": "code",
   "execution_count": null,
   "id": "70429553",
   "metadata": {},
   "outputs": [],
   "source": []
  },
  {
   "cell_type": "code",
   "execution_count": 31,
   "id": "03b93da1",
   "metadata": {},
   "outputs": [
    {
     "data": {
      "text/markdown": [
       "\n",
       "\n",
       "## Enforced Naming Conventions\n",
       "\n",
       "Another advantage to using Caboodle is the enforced naming convention of the database. All tables and\n",
       "columns will be written using PascalCase. The first letter in each word will be capitalized without\n",
       "underscores between the words.\n",
       "\n",
       "### Key Columns in Caboodle\n",
       "\n",
       "Report writers who have worked with relational databases are familiar with the idea of a key used to\n",
       "identify a row in a table. All key columns in Caboodle are surrogate keys including primary keys and\n",
       "lookup columns.\n",
       "\n",
       "- **Surrogate Key** ‐ Any key column where the column's value does not exist in the source database\n",
       "and is created during the ETL process. In Caboodle all columns that end in ‐Key are surrogate\n",
       "keys. This is necessary because Caboodle contains both Epic and non‐Epic data.\n",
       "\n",
       "- **Lookup Column** ‐ A column in one table whose value identifies at least one row in another table.\n",
       "Most tables in Caboodle have at least one lookup column. Lookup columns in Caboodle will always\n",
       "end in ‐Key and the Cogito Data Dictionary will tell report writers what table the lookup column\n",
       "references.\n",
       "\n",
       "\n",
       "For many DMCs ﴾Data Model Components﴿ in Caboodle the primary key will follow a strict naming\n",
       "convention. For PatientDim, the primary key is PatientKey. PatientKey is a surrogate key, which means the\n",
       "value stored in Caboodle does not exist in the source databases. If you are looking for identifying\n",
       "information for validation in Caboodle, consider using the ‐EpicId or ‐EpicCsn columns. Columns that end\n",
       "in ‐EpicId and ‐EpicCsn store source database identifiers.\n",
       "\n",
       "\n"
      ],
      "text/plain": [
       "<IPython.core.display.Markdown object>"
      ]
     },
     "metadata": {},
     "output_type": "display_data"
    }
   ],
   "source": [
    "definition = '''\n",
    "\n",
    "## Enforced Naming Conventions\n",
    "\n",
    "Another advantage to using Caboodle is the enforced naming convention of the database. All tables and\n",
    "columns will be written using PascalCase. The first letter in each word will be capitalized without\n",
    "underscores between the words.\n",
    "\n",
    "### Key Columns in Caboodle\n",
    "\n",
    "Report writers who have worked with relational databases are familiar with the idea of a key used to\n",
    "identify a row in a table. All key columns in Caboodle are surrogate keys including primary keys and\n",
    "lookup columns.\n",
    "\n",
    "- **Surrogate Key** ‐ Any key column where the column's value does not exist in the source database\n",
    "and is created during the ETL process. In Caboodle all columns that end in ‐Key are surrogate\n",
    "keys. This is necessary because Caboodle contains both Epic and non‐Epic data.\n",
    "\n",
    "- **Lookup Column** ‐ A column in one table whose value identifies at least one row in another table.\n",
    "Most tables in Caboodle have at least one lookup column. Lookup columns in Caboodle will always\n",
    "end in ‐Key and the Cogito Data Dictionary will tell report writers what table the lookup column\n",
    "references.\n",
    "\n",
    "\n",
    "For many DMCs ﴾Data Model Components﴿ in Caboodle the primary key will follow a strict naming\n",
    "convention. For PatientDim, the primary key is PatientKey. PatientKey is a surrogate key, which means the\n",
    "value stored in Caboodle does not exist in the source databases. If you are looking for identifying\n",
    "information for validation in Caboodle, consider using the ‐EpicId or ‐EpicCsn columns. Columns that end\n",
    "in ‐EpicId and ‐EpicCsn store source database identifiers.\n",
    "\n",
    "\n",
    "''' \n",
    "\n",
    "with open(file_name, 'a', encoding='utf-8') as f:\n",
    "     f.write(definition)\n",
    "\n",
    "talking_code = False\n",
    "if talking_code:\n",
    "    tc.print_say(definition) \n",
    "else:\n",
    "    display(Markdown(definition))  "
   ]
  },
  {
   "cell_type": "code",
   "execution_count": 33,
   "id": "f9a9540c",
   "metadata": {},
   "outputs": [
    {
     "data": {
      "text/markdown": [
       "\n",
       "\n",
       "\n",
       "## Data Model Component Naming Convention\n",
       "\n",
       "Tables in Caboodle do not stand alone, each is considered part of a Data Model Component ﴾DMC﴿. A\n",
       "DMC consists of the table, the packages used to populate the table, and underlying metadata tables that\n",
       "assist Caboodle Administrators with the ETL process. Each DMC has a type, and each type has a specific\n",
       "naming convention. These naming conventions are strictly enforced in Caboodle, allowing a table's suffix\n",
       "to provide information about its structure and purpose. These suffixes are:\n",
       "\n",
       "‐ **Dim for dimensions**\n",
       "Dimension tables ﴾frequently referred to as \"dim tables\" due to their suffix﴿ contain one row for each\n",
       "entity within the set. Examples include: a medication ﴾MedicationDim﴿, a patient ﴾PatientDim﴿, a provider\n",
       "﴾ProviderDim﴿. Compared to fact tables, dimension tables generally contain more data and fewer lookup\n",
       "The Basics Of Caboodle 2 • 8\n",
       "CDW110v Caboodle Data Model Fundamentals 19\n",
       "EpicUUID: F21A2445-F3F6-4476-9B4D-F3979A1DAEB9\n",
       "columns.\n",
       "\n",
       "‐ **Fact for facts**\n",
       "Fact tables contain one row for each occurrence of some significant, measurable event. Examples include:\n",
       "a provider placing an order for a medication ﴾MedicationOrderFact﴿ or a patient having an encounter\n",
       "﴾EncounterFact﴿. Fact tables tend to have quite a few lookup columns pointing to dimension tables.\n",
       "While reporting out of Caboodle, the majority of the tables you will use will be facts and\n",
       "dimensions.\n",
       "\n",
       "‐ **Bridge for bridges**\n",
       "Bridge tables are used in Caboodle to model many‐to‐many relationships. Examples include: a patient\n",
       "with many diagnoses on their problem list ﴾DiagnosisBridge﴿ or an authorization with many procedures\n",
       "associated with it ﴾ProcedureBridge﴿. Bridge tables will be covered in more detail in Beyond Facts and\n",
       "Dimensions.\n",
       "\n",
       "- **DataMart for data marts**\n",
       "Data marts are used in Caboodle to store data points from several DMCs in one place. If you were going\n",
       "to report on hospital admissions and subsequent readmissions, you would likely use\n",
       "HospitalReadmissionDataMart instead of using HospitalAdmissionFact.\n",
       "\n",
       "‐ **AttributeValueDim for EAV tables**\n",
       "Entity‐Attribute‐Value ﴾EAV﴿ dimension tables contain information about values of additional attributes in\n",
       "Caboodle. The EAV structure will be covered in more detail in COG240 Clinical Data Model.\n",
       "\n",
       "‐ **<suffix>X for custom tables**\n",
       "Caboodle is customizable. When you are working with the Caboodle at home, you may find tables of any\n",
       "type ﴾fact, dim, bridge etc.﴿ that ends in an X. When a DMC’s name ends with X, you know that a Caboodle\n",
       "developer at your organization has created this custom DMC.\n",
       "\n",
       "![data_model_naming_conventions.png](attachment:data_model_naming_conventions.png)\n",
       "\n"
      ],
      "text/plain": [
       "<IPython.core.display.Markdown object>"
      ]
     },
     "metadata": {},
     "output_type": "display_data"
    }
   ],
   "source": [
    "definition = '''\n",
    "\n",
    "\n",
    "## Data Model Component Naming Convention\n",
    "\n",
    "Tables in Caboodle do not stand alone, each is considered part of a Data Model Component ﴾DMC﴿. A\n",
    "DMC consists of the table, the packages used to populate the table, and underlying metadata tables that\n",
    "assist Caboodle Administrators with the ETL process. Each DMC has a type, and each type has a specific\n",
    "naming convention. These naming conventions are strictly enforced in Caboodle, allowing a table's suffix\n",
    "to provide information about its structure and purpose. These suffixes are:\n",
    "\n",
    "‐ **Dim for dimensions**\n",
    "Dimension tables ﴾frequently referred to as \"dim tables\" due to their suffix﴿ contain one row for each\n",
    "entity within the set. Examples include: a medication ﴾MedicationDim﴿, a patient ﴾PatientDim﴿, a provider\n",
    "﴾ProviderDim﴿. Compared to fact tables, dimension tables generally contain more data and fewer lookup\n",
    "The Basics Of Caboodle 2 • 8\n",
    "CDW110v Caboodle Data Model Fundamentals 19\n",
    "EpicUUID: F21A2445-F3F6-4476-9B4D-F3979A1DAEB9\n",
    "columns.\n",
    "\n",
    "‐ **Fact for facts**\n",
    "Fact tables contain one row for each occurrence of some significant, measurable event. Examples include:\n",
    "a provider placing an order for a medication ﴾MedicationOrderFact﴿ or a patient having an encounter\n",
    "﴾EncounterFact﴿. Fact tables tend to have quite a few lookup columns pointing to dimension tables.\n",
    "While reporting out of Caboodle, the majority of the tables you will use will be facts and\n",
    "dimensions.\n",
    "\n",
    "‐ **Bridge for bridges**\n",
    "Bridge tables are used in Caboodle to model many‐to‐many relationships. Examples include: a patient\n",
    "with many diagnoses on their problem list ﴾DiagnosisBridge﴿ or an authorization with many procedures\n",
    "associated with it ﴾ProcedureBridge﴿. Bridge tables will be covered in more detail in Beyond Facts and\n",
    "Dimensions.\n",
    "\n",
    "- **DataMart for data marts**\n",
    "Data marts are used in Caboodle to store data points from several DMCs in one place. If you were going\n",
    "to report on hospital admissions and subsequent readmissions, you would likely use\n",
    "HospitalReadmissionDataMart instead of using HospitalAdmissionFact.\n",
    "\n",
    "‐ **AttributeValueDim for EAV tables**\n",
    "Entity‐Attribute‐Value ﴾EAV﴿ dimension tables contain information about values of additional attributes in\n",
    "Caboodle. The EAV structure will be covered in more detail in COG240 Clinical Data Model.\n",
    "\n",
    "‐ **<suffix>X for custom tables**\n",
    "Caboodle is customizable. When you are working with the Caboodle at home, you may find tables of any\n",
    "type ﴾fact, dim, bridge etc.﴿ that ends in an X. When a DMC’s name ends with X, you know that a Caboodle\n",
    "developer at your organization has created this custom DMC.\n",
    "\n",
    "![data_model_naming_conventions.png](attachment:data_model_naming_conventions.png)\n",
    "\n",
    "''' \n",
    "\n",
    "with open(file_name, 'a', encoding='utf-8') as f:\n",
    "     f.write(definition)\n",
    "\n",
    "display(Markdown(definition))  \n"
   ]
  },
  {
   "cell_type": "code",
   "execution_count": null,
   "id": "6986a63a",
   "metadata": {},
   "outputs": [],
   "source": [
    "definition = '''\n",
    "\n",
    "## Simplified Report Writing\n",
    "\n",
    "Like many other data warehouses, Caboodle uses a dimensional data model. Dimensional data models\n",
    "arrange tables in a way that makes queries faster to write and more efficient to run when compared to\n",
    "other structures.\n",
    "\n",
    "- **Accessibility**: Dimensional data models are designed to be intuitive, therefore Caboodle requires\n",
    "less training for business intelligence developers than other platforms.\n",
    "\n",
    "- **Efficiency**: It is generally quicker and more efficient to write a report using Caboodle versus Clarity,\n",
    "Epic's other relational database.\n",
    "\n",
    "''' \n",
    "\n",
    "with open(file_name, 'a', encoding='utf-8') as f:\n",
    "     f.write(definition)\n",
    "\n",
    "talking_code = False\n",
    "if talking_code:\n",
    "    tc.print_say(definition) \n",
    "else:\n",
    "    display(Markdown(definition))  "
   ]
  },
  {
   "cell_type": "code",
   "execution_count": null,
   "id": "db94ab64",
   "metadata": {},
   "outputs": [],
   "source": [
    "definition = '''\n",
    "\n",
    "## The Star Schema\n",
    "\n",
    "Many reports in Caboodle center around events and thus around fact tables. It is more common to focus\n",
    "a report on measurable events ﴾medication orders, patient encounters, billing transactions﴿ than on the\n",
    "entities involved with those events ﴾medications, patients, providers﴿. While report writers may\n",
    "occasionally be asked to write a report about the providers at their organization, they will more frequently\n",
    "be asked to write reports about something those providers did ﴾e.g. placing a medication order﴿ or were\n",
    "involved with ﴾e.g. treating a patient during an encounter﴿.\n",
    "\n",
    "\n",
    "The **star schema** refers to the way that reports centered around fact tables appear in a join diagram. A\n",
    "fact table contains all of the entities that were involved with each event, but little additional information\n",
    "about the entities. If a report needs that additional data, joins must be made to the appropriate dimension\n",
    "tables. This is where the star schema takes shape.\n",
    "''' \n",
    "\n",
    "with open(file_name, 'a', encoding='utf-8') as f:\n",
    "     f.write(definition)\n",
    "display(Markdown(definition))  "
   ]
  },
  {
   "attachments": {
    "image.png": {
     "image/png": "[encoded data removed]"
    }
   },
   "cell_type": "markdown",
   "id": "10ea5472",
   "metadata": {},
   "source": [
    "## Fact and Dimension Tables \n",
    "\n",
    "![image.png](attachment:image.png)"
   ]
  },
  {
   "cell_type": "markdown",
   "id": "9e15d5b6",
   "metadata": {},
   "source": []
  },
  {
   "cell_type": "code",
   "execution_count": null,
   "id": "9b0cf8e0",
   "metadata": {},
   "outputs": [],
   "source": []
  },
  {
   "cell_type": "code",
   "execution_count": null,
   "id": "3b6545b9",
   "metadata": {},
   "outputs": [],
   "source": []
  },
  {
   "cell_type": "markdown",
   "id": "72244be9",
   "metadata": {},
   "source": [
    "## Step 0 - Process End - display log"
   ]
  },
  {
   "cell_type": "code",
   "execution_count": null,
   "id": "134074a1",
   "metadata": {},
   "outputs": [],
   "source": [
    "# Calculate and classify the process performance \n",
    "status = ql.calculate_process_performance(solution_name, start_time) \n",
    "print(ql.append_log_file(solution_name))  "
   ]
  }
 ],
 "metadata": {
  "kernelspec": {
   "display_name": "Python 3 (ipykernel)",
   "language": "python",
   "name": "python3"
  },
  "language_info": {
   "codemirror_mode": {
    "name": "ipython",
    "version": 3
   },
   "file_extension": ".py",
   "mimetype": "text/x-python",
   "name": "python",
   "nbconvert_exporter": "python",
   "pygments_lexer": "ipython3",
   "version": "3.8.5"
  }
 },
 "nbformat": 4,
 "nbformat_minor": 5
}
